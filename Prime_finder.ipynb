{
 "cells": [
  {
   "cell_type": "code",
   "execution_count": 148,
   "id": "76382e59",
   "metadata": {},
   "outputs": [],
   "source": [
    "import pandas as pd\n",
    "from tqdm import tqdm\n",
    "import matplotlib.pyplot as plt\n",
    "import seaborn as sns"
   ]
  },
  {
   "cell_type": "code",
   "execution_count": 205,
   "id": "8cab8190",
   "metadata": {},
   "outputs": [
    {
     "name": "stdout",
     "output_type": "stream",
     "text": [
      "numbers to try 20000\n"
     ]
    },
    {
     "name": "stderr",
     "output_type": "stream",
     "text": [
      "100%|██████████| 19999/19999 [00:31<00:00, 644.63it/s] \n"
     ]
    }
   ],
   "source": [
    "numbers=[]\n",
    "numb_of_divisors_list=[]\n",
    "calc_time_list=[]\n",
    "time_cumsum_list=[]\n",
    "start_time=datetime.timestamp(datetime.now())\n",
    "N=int(input(\"numbers to try \"))\n",
    "for number in tqdm(range(2,N+1)):\n",
    "    timestamp_start=datetime.timestamp(datetime.now())\n",
    "    numbers.append(number)\n",
    "    numb_of_divisors=0\n",
    "    for numb in range(1,number+1):\n",
    "        numb_of_divisors=numb_of_divisors+(number%numb==0)\n",
    "    numb_of_divisors_list.append(numb_of_divisors)\n",
    "    timestamp_stop=datetime.timestamp(datetime.now())\n",
    "    diff=timestamp_stop-timestamp_start\n",
    "    calc_time_list.append(diff)\n",
    "    time_cumsum=timestamp_stop-start_time\n",
    "    time_cumsum_list.append(time_cumsum)"
   ]
  },
  {
   "cell_type": "code",
   "execution_count": 209,
   "id": "c248cbf6",
   "metadata": {},
   "outputs": [],
   "source": [
    "df=pd.DataFrame(data=numbers, index=range(2,len(numbers)+2))\n",
    "df.columns=[\"number\"]\n",
    "df[\"numb_of_divisors\"]=numb_of_divisors_list\n",
    "df[\"numb_of_true_divisors\"]=df[\"numb_of_divisors\"]-2\n",
    "df[\"is_prime_dummy\"]=df[\"numb_of_true_divisors\"]==0\n",
    "df[\"calc_time\"]=calc_time_list\n",
    "df[\"time_cumsum\"]=time_cumsum_list"
   ]
  },
  {
   "cell_type": "code",
   "execution_count": 210,
   "id": "ba035b90",
   "metadata": {},
   "outputs": [
    {
     "data": {
      "text/plain": [
       "<AxesSubplot:xlabel='number', ylabel='calc_time'>"
      ]
     },
     "execution_count": 210,
     "metadata": {},
     "output_type": "execute_result"
    },
    {
     "data": {
      "image/png": "[encoded data removed]",
      "text/plain": [
       "<Figure size 432x288 with 1 Axes>"
      ]
     },
     "metadata": {
      "needs_background": "light"
     },
     "output_type": "display_data"
    }
   ],
   "source": [
    "sns.lineplot(data=df,x=\"number\",y=\"calc_time\")"
   ]
  },
  {
   "cell_type": "code",
   "execution_count": 211,
   "id": "bb285315",
   "metadata": {},
   "outputs": [
    {
     "data": {
      "text/plain": [
       "<AxesSubplot:xlabel='number', ylabel='time_cumsum'>"
      ]
     },
     "execution_count": 211,
     "metadata": {},
     "output_type": "execute_result"
    },
    {
     "data": {
      "image/png": "[encoded data removed]",
      "text/plain": [
       "<Figure size 432x288 with 1 Axes>"
      ]
     },
     "metadata": {
      "needs_background": "light"
     },
     "output_type": "display_data"
    }
   ],
   "source": [
    "sns.lineplot(data=df,x=\"number\",y=\"time_cumsum\")"
   ]
  },
  {
   "cell_type": "code",
   "execution_count": 212,
   "id": "7c70543f",
   "metadata": {},
   "outputs": [
    {
     "data": {
      "text/html": [
       "<div>\n",
       "<style scoped>\n",
       "    .dataframe tbody tr th:only-of-type {\n",
       "        vertical-align: middle;\n",
       "    }\n",
       "\n",
       "    .dataframe tbody tr th {\n",
       "        vertical-align: top;\n",
       "    }\n",
       "\n",
       "    .dataframe thead th {\n",
       "        text-align: right;\n",
       "    }\n",
       "</style>\n",
       "<table border=\"1\" class=\"dataframe\">\n",
       "  <thead>\n",
       "    <tr style=\"text-align: right;\">\n",
       "      <th></th>\n",
       "      <th>number</th>\n",
       "      <th>numb_of_divisors</th>\n",
       "      <th>numb_of_true_divisors</th>\n",
       "      <th>is_prime_dummy</th>\n",
       "      <th>calc_time</th>\n",
       "      <th>time_cumsum</th>\n",
       "    </tr>\n",
       "  </thead>\n",
       "  <tbody>\n",
       "    <tr>\n",
       "      <th>19996</th>\n",
       "      <td>19996</td>\n",
       "      <td>6</td>\n",
       "      <td>4</td>\n",
       "      <td>False</td>\n",
       "      <td>0.003159</td>\n",
       "      <td>33.606571</td>\n",
       "    </tr>\n",
       "    <tr>\n",
       "      <th>19997</th>\n",
       "      <td>19997</td>\n",
       "      <td>2</td>\n",
       "      <td>0</td>\n",
       "      <td>True</td>\n",
       "      <td>0.003152</td>\n",
       "      <td>33.609724</td>\n",
       "    </tr>\n",
       "    <tr>\n",
       "      <th>19998</th>\n",
       "      <td>19998</td>\n",
       "      <td>24</td>\n",
       "      <td>22</td>\n",
       "      <td>False</td>\n",
       "      <td>0.003173</td>\n",
       "      <td>33.612899</td>\n",
       "    </tr>\n",
       "    <tr>\n",
       "      <th>19999</th>\n",
       "      <td>19999</td>\n",
       "      <td>4</td>\n",
       "      <td>2</td>\n",
       "      <td>False</td>\n",
       "      <td>0.003169</td>\n",
       "      <td>33.616070</td>\n",
       "    </tr>\n",
       "    <tr>\n",
       "      <th>20000</th>\n",
       "      <td>20000</td>\n",
       "      <td>30</td>\n",
       "      <td>28</td>\n",
       "      <td>False</td>\n",
       "      <td>0.003191</td>\n",
       "      <td>33.619706</td>\n",
       "    </tr>\n",
       "  </tbody>\n",
       "</table>\n",
       "</div>"
      ],
      "text/plain": [
       "       number  numb_of_divisors  numb_of_true_divisors  is_prime_dummy  \\\n",
       "19996   19996                 6                      4           False   \n",
       "19997   19997                 2                      0            True   \n",
       "19998   19998                24                     22           False   \n",
       "19999   19999                 4                      2           False   \n",
       "20000   20000                30                     28           False   \n",
       "\n",
       "       calc_time  time_cumsum  \n",
       "19996   0.003159    33.606571  \n",
       "19997   0.003152    33.609724  \n",
       "19998   0.003173    33.612899  \n",
       "19999   0.003169    33.616070  \n",
       "20000   0.003191    33.619706  "
      ]
     },
     "execution_count": 212,
     "metadata": {},
     "output_type": "execute_result"
    }
   ],
   "source": [
    "df.tail()"
   ]
  },
  {
   "cell_type": "code",
   "execution_count": null,
   "id": "461fa8c3",
   "metadata": {},
   "outputs": [],
   "source": []
  }
 ],
 "metadata": {
  "kernelspec": {
   "display_name": "Python 3",
   "language": "python",
   "name": "python3"
  },
  "language_info": {
   "codemirror_mode": {
    "name": "ipython",
    "version": 3
   },
   "file_extension": ".py",
   "mimetype": "text/x-python",
   "name": "python",
   "nbconvert_exporter": "python",
   "pygments_lexer": "ipython3",
   "version": "3.8.8"
  }
 },
 "nbformat": 4,
 "nbformat_minor": 5
}
